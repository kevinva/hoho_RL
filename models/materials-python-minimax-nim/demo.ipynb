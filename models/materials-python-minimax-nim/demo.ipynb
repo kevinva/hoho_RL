{
 "cells": [
  {
   "cell_type": "code",
   "execution_count": 31,
   "id": "20353624",
   "metadata": {},
   "outputs": [],
   "source": [
    "from minimax_simplenim import *"
   ]
  },
  {
   "cell_type": "code",
   "execution_count": 2,
   "id": "581a5006",
   "metadata": {},
   "outputs": [
    {
     "data": {
      "text/plain": [
       "[]"
      ]
     },
     "execution_count": 2,
     "metadata": {},
     "output_type": "execute_result"
    }
   ],
   "source": [
    "possible_new_states(0)"
   ]
  },
  {
   "cell_type": "code",
   "execution_count": 3,
   "id": "c36af9e6",
   "metadata": {},
   "outputs": [
    {
     "name": "stdout",
     "output_type": "stream",
     "text": [
      "4\n",
      "3\n",
      "2\n",
      "1\n",
      "0\n",
      "0\n",
      "1\n",
      "2\n"
     ]
    },
    {
     "data": {
      "text/plain": [
       "-1"
      ]
     },
     "execution_count": 3,
     "metadata": {},
     "output_type": "execute_result"
    }
   ],
   "source": [
    "minimax(4, False)"
   ]
  },
  {
   "cell_type": "code",
   "execution_count": 4,
   "id": "ce94ab35",
   "metadata": {},
   "outputs": [
    {
     "name": "stdout",
     "output_type": "stream",
     "text": [
      "4\n",
      "3\n"
     ]
    },
    {
     "data": {
      "text/plain": [
       "(-1, 4)"
      ]
     },
     "execution_count": 4,
     "metadata": {},
     "output_type": "execute_result"
    }
   ],
   "source": [
    "best_move(5)"
   ]
  },
  {
   "cell_type": "code",
   "execution_count": 8,
   "id": "7cc67014",
   "metadata": {},
   "outputs": [],
   "source": [
    "def best_move_v2(state):\n",
    "    for take in (1, 2, 3):\n",
    "        new_state = state - take\n",
    "        score = minimax(new_state, False)\n",
    "        \n",
    "        print(f\"score = {score}, new_state = {new_state}\")\n",
    "        \n",
    "        if score > 0:\n",
    "            break\n",
    "    return score, new_state"
   ]
  },
  {
   "cell_type": "code",
   "execution_count": 10,
   "id": "c1dded68",
   "metadata": {},
   "outputs": [
    {
     "name": "stdout",
     "output_type": "stream",
     "text": [
      "5\n",
      "4\n",
      "score = 1, new_state = 5\n"
     ]
    },
    {
     "data": {
      "text/plain": [
       "(1, 5)"
      ]
     },
     "execution_count": 10,
     "metadata": {},
     "output_type": "execute_result"
    }
   ],
   "source": [
    "best_move_v2(6)"
   ]
  },
  {
   "cell_type": "code",
   "execution_count": 17,
   "id": "36a17ff8",
   "metadata": {},
   "outputs": [],
   "source": [
    "def possible_new_states_v2(state):\n",
    "    for pile, counters in enumerate(state):\n",
    "        for remain in range(counters):\n",
    "            print(state[:pile], remain, state[pile + 1:])\n",
    "            yield state[:pile] + (remain,) + state[pile + 1 :]"
   ]
  },
  {
   "cell_type": "code",
   "execution_count": 18,
   "id": "1b4c5ed6",
   "metadata": {},
   "outputs": [
    {
     "name": "stdout",
     "output_type": "stream",
     "text": [
      "() 0 (3, 5)\n",
      "() 1 (3, 5)\n",
      "(2,) 0 (5,)\n",
      "(2,) 1 (5,)\n",
      "(2,) 2 (5,)\n",
      "(2, 3) 0 ()\n",
      "(2, 3) 1 ()\n",
      "(2, 3) 2 ()\n",
      "(2, 3) 3 ()\n",
      "(2, 3) 4 ()\n"
     ]
    },
    {
     "data": {
      "text/plain": [
       "[(0, 3, 5),\n",
       " (1, 3, 5),\n",
       " (2, 0, 5),\n",
       " (2, 1, 5),\n",
       " (2, 2, 5),\n",
       " (2, 3, 0),\n",
       " (2, 3, 1),\n",
       " (2, 3, 2),\n",
       " (2, 3, 3),\n",
       " (2, 3, 4)]"
      ]
     },
     "execution_count": 18,
     "metadata": {},
     "output_type": "execute_result"
    }
   ],
   "source": [
    "list(possible_new_states_v2((2, 3, 5)))"
   ]
  },
  {
   "cell_type": "code",
   "execution_count": 24,
   "id": "87e4cd12",
   "metadata": {},
   "outputs": [],
   "source": [
    "def evaluate_v2(state, is_maximizing):\n",
    "    print(f\"all(counters == 0 for counters in state): {all(counters == 0 for counters in state)}\")\n",
    "    if all(counters == 0 for counters in state):\n",
    "        return 1 if is_maximizing else -1"
   ]
  },
  {
   "cell_type": "code",
   "execution_count": 26,
   "id": "ae66615d",
   "metadata": {},
   "outputs": [
    {
     "name": "stdout",
     "output_type": "stream",
     "text": [
      "all(counters == 0 for counters in state): False\n"
     ]
    }
   ],
   "source": [
    "evaluate_v2((0, 2, 0), True)"
   ]
  },
  {
   "cell_type": "code",
   "execution_count": 32,
   "id": "11b215cb",
   "metadata": {},
   "outputs": [
    {
     "name": "stdout",
     "output_type": "stream",
     "text": [
      "100\n",
      "99\n",
      "98\n",
      "97\n",
      "96\n",
      "95\n",
      "94\n",
      "93\n",
      "92\n",
      "91\n",
      "90\n",
      "89\n",
      "88\n",
      "87\n",
      "86\n",
      "85\n",
      "84\n",
      "83\n",
      "82\n",
      "81\n",
      "80\n",
      "79\n",
      "78\n",
      "77\n",
      "76\n",
      "75\n",
      "74\n",
      "73\n",
      "72\n",
      "71\n",
      "70\n",
      "69\n",
      "68\n",
      "67\n",
      "66\n",
      "65\n",
      "64\n",
      "63\n",
      "62\n",
      "61\n",
      "60\n",
      "59\n",
      "58\n",
      "57\n",
      "56\n",
      "55\n",
      "54\n",
      "53\n",
      "52\n",
      "51\n",
      "50\n",
      "49\n",
      "48\n",
      "47\n",
      "46\n",
      "45\n",
      "44\n",
      "43\n",
      "42\n",
      "41\n",
      "40\n",
      "39\n",
      "38\n",
      "37\n",
      "36\n",
      "35\n",
      "34\n",
      "33\n",
      "32\n",
      "31\n",
      "30\n",
      "29\n",
      "28\n",
      "27\n",
      "26\n",
      "25\n",
      "24\n",
      "25\n",
      "26\n",
      "27\n",
      "28\n",
      "29\n",
      "30\n",
      "31\n",
      "32\n",
      "33\n",
      "34\n",
      "35\n",
      "36\n",
      "37\n",
      "38\n",
      "39\n",
      "40\n",
      "41\n",
      "42\n",
      "43\n",
      "44\n",
      "45\n",
      "46\n",
      "47\n",
      "48\n",
      "49\n",
      "50\n",
      "51\n",
      "52\n",
      "53\n",
      "54\n",
      "55\n",
      "56\n",
      "57\n",
      "58\n",
      "59\n",
      "60\n",
      "61\n",
      "62\n",
      "63\n",
      "64\n",
      "65\n",
      "66\n",
      "67\n",
      "68\n",
      "69\n",
      "70\n",
      "71\n",
      "72\n",
      "73\n",
      "74\n",
      "75\n",
      "76\n",
      "77\n",
      "78\n",
      "79\n",
      "80\n",
      "81\n",
      "82\n",
      "83\n",
      "84\n",
      "85\n",
      "86\n",
      "87\n",
      "88\n",
      "89\n",
      "90\n",
      "91\n",
      "92\n",
      "93\n",
      "94\n",
      "95\n",
      "96\n",
      "97\n",
      "98\n"
     ]
    },
    {
     "data": {
      "text/plain": [
       "1"
      ]
     },
     "execution_count": 32,
     "metadata": {},
     "output_type": "execute_result"
    }
   ],
   "source": [
    "minimax(100, True)"
   ]
  },
  {
   "cell_type": "code",
   "execution_count": null,
   "id": "6fed4810",
   "metadata": {},
   "outputs": [],
   "source": []
  }
 ],
 "metadata": {
  "kernelspec": {
   "display_name": "Python 3 (ipykernel)",
   "language": "python",
   "name": "python3"
  },
  "language_info": {
   "codemirror_mode": {
    "name": "ipython",
    "version": 3
   },
   "file_extension": ".py",
   "mimetype": "text/x-python",
   "name": "python",
   "nbconvert_exporter": "python",
   "pygments_lexer": "ipython3",
   "version": "3.9.7"
  }
 },
 "nbformat": 4,
 "nbformat_minor": 5
}

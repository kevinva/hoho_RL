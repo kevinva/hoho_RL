{
 "cells": [
  {
   "cell_type": "code",
   "execution_count": 1,
   "id": "6e6014c4",
   "metadata": {},
   "outputs": [],
   "source": [
    "from textworld.gym import register_game\n",
    "from textworld import EnvInfos\n",
    "from textworld.text_utils import extract_vocab_from_gamefile\n",
    "from textworld.gym.spaces.text_spaces import Word\n",
    "import gym\n",
    "from preproc import *"
   ]
  },
  {
   "cell_type": "code",
   "execution_count": 11,
   "id": "a8b65eec",
   "metadata": {},
   "outputs": [
    {
     "name": "stdout",
     "output_type": "stream",
     "text": [
      "(\"\\n\\n\\n\\n                    ________  ________  __    __  ________        \\n                   |        \\\\|        \\\\|  \\\\  |  \\\\|        \\\\       \\n                    \\\\$$$$$$$$| $$$$$$$$| $$  | $$ \\\\$$$$$$$$       \\n                      | $$   | $$__     \\\\$$\\\\/  $$   | $$          \\n                      | $$   | $$  \\\\     >$$  $$    | $$          \\n                      | $$   | $$$$$    /  $$$$\\\\    | $$          \\n                      | $$   | $$_____ |  $$ \\\\$$\\\\   | $$          \\n                      | $$   | $$     \\\\| $$  | $$   | $$          \\n                       \\\\$$    \\\\$$$$$$$$ \\\\$$   \\\\$$    \\\\$$          \\n              __       __   ______   _______   __        _______  \\n             |  \\\\  _  |  \\\\ /      \\\\ |       \\\\ |  \\\\      |       \\\\ \\n             | $$ / \\\\ | $$|  $$$$$$\\\\| $$$$$$$\\\\| $$      | $$$$$$$\\\\\\n             | $$/  $\\\\| $$| $$  | $$| $$__| $$| $$      | $$  | $$\\n             | $$  $$$\\\\ $$| $$  | $$| $$    $$| $$      | $$  | $$\\n             | $$ $$\\\\$$\\\\$$| $$  | $$| $$$$$$$\\\\| $$      | $$  | $$\\n             | $$$$  \\\\$$$$| $$__/ $$| $$  | $$| $$_____ | $$__/ $$\\n             | $$$    \\\\$$$ \\\\$$    $$| $$  | $$| $$     \\\\| $$    $$\\n              \\\\$$      \\\\$$  \\\\$$$$$$  \\\\$$   \\\\$$ \\\\$$$$$$$$ \\\\$$$$$$$ \\n\\nGet ready to pick stuff up and put it in places, because you've just entered TextWorld! Here is your task for today. First stop, go to the south. And then, head east. With that over with, make an effort to go north. With that accomplished, ensure that the type D locker is open. Then, take the keyboard from the type D locker. That's it!\\n\\n-= Spare Room =-\\nThis might come as a shock to you, but you've just walked into a spare room. You can barely contain your excitement.\\n\\nYou can make out a closed usual looking crate close by. You can make out a rack. However, the rack, like an empty rack, has nothing on it.\\n\\nThere is an exit to the east. Don't worry, it is unblocked. You don't like doors? Why not try going south, that entranceway is unguarded.\\n\\n>                                                                                                                                -= Spare Room =-0/1\", {'admissible_commands': ['drop sponge', 'drop teacup', 'drop type D latchkey', 'examine crate', 'examine rack', 'examine sponge', 'examine teacup', 'examine type D latchkey', 'go east', 'go south', 'inventory', 'look', 'open crate', 'put sponge on rack', 'put teacup on rack', 'put type D latchkey on rack'], 'intermediate_reward': 0, 'description': \"-= Spare Room =-\\nThis might come as a shock to you, but you've just walked into a spare room. You can barely contain your excitement.\\n\\nYou can make out a closed usual looking crate close by. You can make out a rack. However, the rack, like an empty rack, has nothing on it.\\n\\nThere is an exit to the east. Don't worry, it is unblocked. You don't like doors? Why not try going south, that entranceway is unguarded.\", 'inventory': 'You are carrying: a type D latchkey, a teacup and a sponge.'})\n"
     ]
    },
    {
     "ename": "AttributeError",
     "evalue": "'TextworldGymEnv' object has no attribute 'num_fields'",
     "output_type": "error",
     "traceback": [
      "\u001b[0;31m---------------------------------------------------------------------------\u001b[0m",
      "\u001b[0;31mAttributeError\u001b[0m                            Traceback (most recent call last)",
      "Input \u001b[0;32mIn [11]\u001b[0m, in \u001b[0;36m<cell line: 9>\u001b[0;34m()\u001b[0m\n\u001b[1;32m      7\u001b[0m state \u001b[38;5;241m=\u001b[39m env\u001b[38;5;241m.\u001b[39mreset()\n\u001b[1;32m      8\u001b[0m \u001b[38;5;28mprint\u001b[39m(state)\n\u001b[0;32m----> 9\u001b[0m \u001b[43menv\u001b[49m\u001b[38;5;241;43m.\u001b[39;49m\u001b[43mnum_fields\u001b[49m\n",
      "File \u001b[0;32m/opt/anaconda3/envs/hoho_RL/lib/python3.9/site-packages/gym/core.py:229\u001b[0m, in \u001b[0;36mWrapper.__getattr__\u001b[0;34m(self, name)\u001b[0m\n\u001b[1;32m    227\u001b[0m \u001b[38;5;28;01mif\u001b[39;00m name\u001b[38;5;241m.\u001b[39mstartswith(\u001b[38;5;124m\"\u001b[39m\u001b[38;5;124m_\u001b[39m\u001b[38;5;124m\"\u001b[39m):\n\u001b[1;32m    228\u001b[0m     \u001b[38;5;28;01mraise\u001b[39;00m \u001b[38;5;167;01mAttributeError\u001b[39;00m(\u001b[38;5;124mf\u001b[39m\u001b[38;5;124m\"\u001b[39m\u001b[38;5;124mattempted to get missing private attribute \u001b[39m\u001b[38;5;124m'\u001b[39m\u001b[38;5;132;01m{\u001b[39;00mname\u001b[38;5;132;01m}\u001b[39;00m\u001b[38;5;124m'\u001b[39m\u001b[38;5;124m\"\u001b[39m)\n\u001b[0;32m--> 229\u001b[0m \u001b[38;5;28;01mreturn\u001b[39;00m \u001b[38;5;28;43mgetattr\u001b[39;49m\u001b[43m(\u001b[49m\u001b[38;5;28;43mself\u001b[39;49m\u001b[38;5;241;43m.\u001b[39;49m\u001b[43menv\u001b[49m\u001b[43m,\u001b[49m\u001b[43m \u001b[49m\u001b[43mname\u001b[49m\u001b[43m)\u001b[49m\n",
      "\u001b[0;31mAttributeError\u001b[0m: 'TextworldGymEnv' object has no attribute 'num_fields'"
     ]
    }
   ],
   "source": [
    "vocab = extract_vocab_from_gamefile('game/simple1.z8')\n",
    "observation_space = Word(max_length=len(vocab), vocab=vocab)\n",
    "action_space = Word(max_length=8, vocab=vocab)\n",
    "request_infos = EnvInfos(inventory=True, intermediate_reward=True, admissible_commands=True, description=True)\n",
    "env_id = register_game('game/simple1.z8', request_infos=request_infos, observation_space=observation_space, action_space=action_space)\n",
    "env = gym.make(env_id)\n",
    "state = env.reset()\n",
    "print(state)"
   ]
  },
  {
   "cell_type": "code",
   "execution_count": 3,
   "id": "1f125348",
   "metadata": {},
   "outputs": [
    {
     "name": "stdout",
     "output_type": "stream",
     "text": [
      "{'obs': [array([  3, 263, 125, 313, 292, 215, 346, 239, 207, 144, 455, 111,   1,\n",
      "       386, 314, 382, 239, 263, 125,   2,   3, 455, 396,  96, 214, 280,\n",
      "        82,   2,   3, 455, 396, 372, 342, 239,  48, 338, 444,  31, 349,\n",
      "        24,   2,   3, 455, 396, 372, 342, 239, 326,   2,   3, 206, 427,\n",
      "       326, 240, 424, 283, 326, 416,  75, 316, 345,   2,   3, 276, 212,\n",
      "       424,  93, 144, 427,  50,   2,   3,   1, 270, 345, 212,  25,   2,\n",
      "         3, 455,   1, 240,  83,  67, 320, 437, 199,  42, 129, 179, 212,\n",
      "       124,   2,   3,   2]), array([  3, 455,  78,   1, 239, 171, 406, 398, 239,  32, 253, 239, 304,\n",
      "         2,   3,   2])], 'admissible_commands': [array([  3, 303, 304,   2]), array([  3, 303,  32,   2]), array([  3, 303, 171, 406, 398,   2]), array([  3, 453,  31,   2]), array([  3, 453, 326,   2]), array([  3, 453, 304,   2]), array([  3, 453,  32,   2]), array([  3, 453, 171, 406, 398,   2]), array([ 3, 59, 50,  2]), array([ 3, 59, 42,  2]), array([  3, 225,   2]), array([  3, 142,   2]), array([  3, 293,  31,   2]), array([  3,  10, 304, 316, 326,   2]), array([  3,  10,  32, 316, 326,   2]), array([  3,  10, 171, 406, 398, 316, 326,   2])]}\n"
     ]
    }
   ],
   "source": [
    "pre_env = TextWorldPreproc(env)\n",
    "print(pre_env.reset())"
   ]
  },
  {
   "cell_type": "code",
   "execution_count": 4,
   "id": "60d2e959",
   "metadata": {},
   "outputs": [
    {
     "data": {
      "text/plain": [
       "({'obs': [array([  3, 263, 125, 313, 292, 215, 346, 239, 207, 144, 455, 111,   1,\n",
       "          386, 314, 382, 239, 263, 125,   2,   3, 455, 396,  96, 214, 280,\n",
       "           82,   2,   3, 455, 396, 372, 342, 239,  48, 338, 444,  31, 349,\n",
       "           24,   2,   3, 455, 396, 372, 342, 239, 326,   2,   3, 206, 427,\n",
       "          326, 240, 424, 283, 326, 416,  75, 316, 345,   2,   3, 276, 212,\n",
       "          424,  93, 144, 427,  50,   2,   3,   1, 270, 345, 212,  25,   2,\n",
       "            3, 455,   1, 240,  83,  67, 320, 437, 199,  42, 129, 179, 212,\n",
       "          124,   2,   3, 276, 212, 239, 304, 316, 427,   1,   2,   3,   2]),\n",
       "   array([  3, 455,  78,   1, 239, 171, 406, 398, 253, 239,  32,   2,   3,\n",
       "            2])],\n",
       "  'admissible_commands': [array([  3, 303,  32,   2]),\n",
       "   array([  3, 303, 171, 406, 398,   2]),\n",
       "   array([  3, 453,  31,   2]),\n",
       "   array([  3, 453, 326,   2]),\n",
       "   array([  3, 453, 304,   2]),\n",
       "   array([  3, 453,  32,   2]),\n",
       "   array([  3, 453, 171, 406, 398,   2]),\n",
       "   array([ 3, 59, 50,  2]),\n",
       "   array([ 3, 59, 42,  2]),\n",
       "   array([  3, 225,   2]),\n",
       "   array([  3, 142,   2]),\n",
       "   array([  3, 293,  31,   2]),\n",
       "   array([  3,  10,  32, 316, 326,   2]),\n",
       "   array([  3,  10, 171, 406, 398, 316, 326,   2]),\n",
       "   array([  3, 332, 304,   2])]},\n",
       " 0,\n",
       " False,\n",
       " {})"
      ]
     },
     "execution_count": 4,
     "metadata": {},
     "output_type": "execute_result"
    }
   ],
   "source": [
    "pre_env.step(0)"
   ]
  },
  {
   "cell_type": "code",
   "execution_count": 5,
   "id": "fb2e418f",
   "metadata": {},
   "outputs": [
    {
     "data": {
      "text/plain": [
       "'You are carrying: a type D latchkey and a teacup.'"
      ]
     },
     "execution_count": 5,
     "metadata": {},
     "output_type": "execute_result"
    }
   ],
   "source": [
    "pre_env.last_extra_info['inventory']"
   ]
  },
  {
   "cell_type": "code",
   "execution_count": 6,
   "id": "9eb94a94",
   "metadata": {},
   "outputs": [],
   "source": [
    "prep = Preprocessor(dict_size=pre_env.observation_space.vocab_size, emb_size=10, num_sequences=pre_env.num_fields, enc_output_size=20)"
   ]
  },
  {
   "cell_type": "code",
   "execution_count": 7,
   "id": "c342b3c3",
   "metadata": {},
   "outputs": [
    {
     "data": {
      "text/plain": [
       "{'obs': [array([  3, 263, 125, 313, 292, 215, 346, 239, 207, 144, 455, 111,   1,\n",
       "         386, 314, 382, 239, 263, 125,   2,   3, 455, 396,  96, 214, 280,\n",
       "          82,   2,   3, 455, 396, 372, 342, 239,  48, 338, 444,  31, 349,\n",
       "          24,   2,   3, 455, 396, 372, 342, 239, 326,   2,   3, 206, 427,\n",
       "         326, 240, 424, 283, 326, 416,  75, 316, 345,   2,   3, 276, 212,\n",
       "         424,  93, 144, 427,  50,   2,   3,   1, 270, 345, 212,  25,   2,\n",
       "           3, 455,   1, 240,  83,  67, 320, 437, 199,  42, 129, 179, 212,\n",
       "         124,   2,   3,   2]),\n",
       "  array([  3, 455,  78,   1, 239, 171, 406, 398, 239,  32, 253, 239, 304,\n",
       "           2,   3,   2])],\n",
       " 'admissible_commands': [array([  3, 303, 304,   2]),\n",
       "  array([  3, 303,  32,   2]),\n",
       "  array([  3, 303, 171, 406, 398,   2]),\n",
       "  array([  3, 453,  31,   2]),\n",
       "  array([  3, 453, 326,   2]),\n",
       "  array([  3, 453, 304,   2]),\n",
       "  array([  3, 453,  32,   2]),\n",
       "  array([  3, 453, 171, 406, 398,   2]),\n",
       "  array([ 3, 59, 50,  2]),\n",
       "  array([ 3, 59, 42,  2]),\n",
       "  array([  3, 225,   2]),\n",
       "  array([  3, 142,   2]),\n",
       "  array([  3, 293,  31,   2]),\n",
       "  array([  3,  10, 304, 316, 326,   2]),\n",
       "  array([  3,  10,  32, 316, 326,   2]),\n",
       "  array([  3,  10, 171, 406, 398, 316, 326,   2])]}"
      ]
     },
     "execution_count": 7,
     "metadata": {},
     "output_type": "execute_result"
    }
   ],
   "source": [
    "obs = pre_env.reset()\n",
    "obs"
   ]
  },
  {
   "cell_type": "code",
   "execution_count": 8,
   "id": "8156dc9c",
   "metadata": {},
   "outputs": [
    {
     "data": {
      "text/plain": [
       "Preprocessor(\n",
       "  (emb): Embedding(462, 10)\n",
       "  (enc_0): Encoder(\n",
       "    (net): LSTM(10, 20, batch_first=True)\n",
       "  )\n",
       "  (enc_1): Encoder(\n",
       "    (net): LSTM(10, 20, batch_first=True)\n",
       "  )\n",
       "  (enc_commands): Encoder(\n",
       "    (net): LSTM(10, 20, batch_first=True)\n",
       "  )\n",
       ")"
      ]
     },
     "execution_count": 8,
     "metadata": {},
     "output_type": "execute_result"
    }
   ],
   "source": [
    "prep"
   ]
  },
  {
   "cell_type": "code",
   "execution_count": 9,
   "id": "19370d48",
   "metadata": {},
   "outputs": [
    {
     "name": "stdout",
     "output_type": "stream",
     "text": [
      "[torch.Size([95, 10])]\n",
      "[torch.Size([16, 10])]\n"
     ]
    },
    {
     "data": {
      "text/plain": [
       "torch.Size([1, 40])"
      ]
     },
     "execution_count": 9,
     "metadata": {},
     "output_type": "execute_result"
    }
   ],
   "source": [
    "prep.encode_sequences([obs['obs']]).size()"
   ]
  },
  {
   "cell_type": "code",
   "execution_count": 10,
   "id": "4ca12a6e",
   "metadata": {},
   "outputs": [
    {
     "name": "stdout",
     "output_type": "stream",
     "text": [
      "[torch.Size([4, 10]), torch.Size([4, 10]), torch.Size([6, 10]), torch.Size([4, 10]), torch.Size([4, 10]), torch.Size([4, 10]), torch.Size([4, 10]), torch.Size([6, 10]), torch.Size([4, 10]), torch.Size([4, 10]), torch.Size([3, 10]), torch.Size([3, 10]), torch.Size([4, 10]), torch.Size([6, 10]), torch.Size([6, 10]), torch.Size([8, 10])]\n"
     ]
    },
    {
     "data": {
      "text/plain": [
       "torch.Size([16, 20])"
      ]
     },
     "execution_count": 10,
     "metadata": {},
     "output_type": "execute_result"
    }
   ],
   "source": [
    "prep.encode_commands(obs['admissible_commands']).size()"
   ]
  },
  {
   "cell_type": "code",
   "execution_count": null,
   "id": "ec4c307d",
   "metadata": {},
   "outputs": [],
   "source": []
  }
 ],
 "metadata": {
  "kernelspec": {
   "display_name": "Python 3 (ipykernel)",
   "language": "python",
   "name": "python3"
  },
  "language_info": {
   "codemirror_mode": {
    "name": "ipython",
    "version": 3
   },
   "file_extension": ".py",
   "mimetype": "text/x-python",
   "name": "python",
   "nbconvert_exporter": "python",
   "pygments_lexer": "ipython3",
   "version": "3.9.12"
  }
 },
 "nbformat": 4,
 "nbformat_minor": 5
}

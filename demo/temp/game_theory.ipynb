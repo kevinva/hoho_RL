{
 "cells": [
  {
   "cell_type": "code",
   "execution_count": 81,
   "id": "fb1f0b60",
   "metadata": {},
   "outputs": [],
   "source": [
    "from operator import add, neg\n",
    "import numpy as np\n",
    "\n",
    "def solve(payoff_matrix, iterations=100):\n",
    "    'Return the oddments (mixed strategy ratios) for a given payoff matrix'\n",
    "#     transpose = zip(*payoff_matrix)\n",
    "#     numrows = len(payoff_matrix)\n",
    "#     numcols = len(transpose)\n",
    "\n",
    "    mat_arr = np.array(payoff_matrix)\n",
    "    transpose = mat_arr.transpose()\n",
    "    numrows = mat_arr.shape[0]\n",
    "    numcols = transpose.shape[0]\n",
    "\n",
    "    row_cum_payoff = [0] * numrows\n",
    "    col_cum_payoff = [0] * numcols\n",
    "    colpos = range(numcols)\n",
    "    rowpos = map(neg, range(numrows))\n",
    "    colcnt = [0] * numcols\n",
    "    rowcnt = [0] * numrows\n",
    "    active = 0\n",
    "    for i in range(iterations):\n",
    "        rowcnt[active] += 1        \n",
    "        col_cum_payoff = map(add, payoff_matrix[active], col_cum_payoff)\n",
    "        \n",
    "#         t1 = list(zip(list(col_cum_payoff), colpos))\n",
    "#         print(t1)\n",
    "#         print(min(t1))\n",
    "        \n",
    "        active = min(zip(list(col_cum_payoff), colpos))[1]\n",
    "        colcnt[active] += 1       \n",
    "        row_cum_payoff = map(add, transpose[active], row_cum_payoff)\n",
    "        active = -max(zip(list(row_cum_payoff), rowpos))[1]\n",
    "    value_of_game = (max(list(row_cum_payoff)) + min(list(col_cum_payoff))) / 2.0 / iterations\n",
    "    return rowcnt, colcnt, value_of_game"
   ]
  },
  {
   "cell_type": "code",
   "execution_count": 82,
   "id": "2cd96774",
   "metadata": {
    "scrolled": true
   },
   "outputs": [
    {
     "name": "stdout",
     "output_type": "stream",
     "text": [
      "[(2, 0), (3, 1), (1, 2), (4, 3)]\n",
      "(1, 2)\n"
     ]
    },
    {
     "ename": "ValueError",
     "evalue": "min() arg is an empty sequence",
     "output_type": "error",
     "traceback": [
      "\u001b[1;31m---------------------------------------------------------------------------\u001b[0m",
      "\u001b[1;31mValueError\u001b[0m                                Traceback (most recent call last)",
      "\u001b[1;32m~\\AppData\\Local\\Temp\\ipykernel_1964\\4133178553.py\u001b[0m in \u001b[0;36m<module>\u001b[1;34m\u001b[0m\n\u001b[0;32m      1\u001b[0m \u001b[0mmat\u001b[0m \u001b[1;33m=\u001b[0m \u001b[1;33m[\u001b[0m\u001b[1;33m[\u001b[0m\u001b[1;36m2\u001b[0m\u001b[1;33m,\u001b[0m\u001b[1;36m3\u001b[0m\u001b[1;33m,\u001b[0m\u001b[1;36m1\u001b[0m\u001b[1;33m,\u001b[0m\u001b[1;36m4\u001b[0m\u001b[1;33m]\u001b[0m\u001b[1;33m,\u001b[0m \u001b[1;33m[\u001b[0m\u001b[1;36m1\u001b[0m\u001b[1;33m,\u001b[0m\u001b[1;36m2\u001b[0m\u001b[1;33m,\u001b[0m\u001b[1;36m5\u001b[0m\u001b[1;33m,\u001b[0m\u001b[1;36m4\u001b[0m\u001b[1;33m]\u001b[0m\u001b[1;33m,\u001b[0m \u001b[1;33m[\u001b[0m\u001b[1;36m2\u001b[0m\u001b[1;33m,\u001b[0m\u001b[1;36m3\u001b[0m\u001b[1;33m,\u001b[0m\u001b[1;36m4\u001b[0m\u001b[1;33m,\u001b[0m\u001b[1;36m1\u001b[0m\u001b[1;33m]\u001b[0m\u001b[1;33m,\u001b[0m \u001b[1;33m[\u001b[0m\u001b[1;36m4\u001b[0m\u001b[1;33m,\u001b[0m\u001b[1;36m2\u001b[0m\u001b[1;33m,\u001b[0m\u001b[1;36m2\u001b[0m\u001b[1;33m,\u001b[0m\u001b[1;36m2\u001b[0m\u001b[1;33m]\u001b[0m\u001b[1;33m]\u001b[0m\u001b[1;33m\u001b[0m\u001b[1;33m\u001b[0m\u001b[0m\n\u001b[1;32m----> 2\u001b[1;33m \u001b[0msolve\u001b[0m\u001b[1;33m(\u001b[0m\u001b[0mmat\u001b[0m\u001b[1;33m)\u001b[0m\u001b[1;33m\u001b[0m\u001b[1;33m\u001b[0m\u001b[0m\n\u001b[0m\u001b[0;32m      3\u001b[0m \u001b[1;31m# min(mat)\u001b[0m\u001b[1;33m\u001b[0m\u001b[1;33m\u001b[0m\u001b[0m\n",
      "\u001b[1;32m~\\AppData\\Local\\Temp\\ipykernel_1964\\3511526810.py\u001b[0m in \u001b[0;36msolve\u001b[1;34m(payoff_matrix, iterations)\u001b[0m\n\u001b[0;32m     28\u001b[0m         \u001b[0mprint\u001b[0m\u001b[1;33m(\u001b[0m\u001b[0mmin\u001b[0m\u001b[1;33m(\u001b[0m\u001b[0mt1\u001b[0m\u001b[1;33m)\u001b[0m\u001b[1;33m)\u001b[0m\u001b[1;33m\u001b[0m\u001b[1;33m\u001b[0m\u001b[0m\n\u001b[0;32m     29\u001b[0m \u001b[1;33m\u001b[0m\u001b[0m\n\u001b[1;32m---> 30\u001b[1;33m         \u001b[0mactive\u001b[0m \u001b[1;33m=\u001b[0m \u001b[0mmin\u001b[0m\u001b[1;33m(\u001b[0m\u001b[0mzip\u001b[0m\u001b[1;33m(\u001b[0m\u001b[0mlist\u001b[0m\u001b[1;33m(\u001b[0m\u001b[0mcol_cum_payoff\u001b[0m\u001b[1;33m)\u001b[0m\u001b[1;33m,\u001b[0m \u001b[0mcolpos\u001b[0m\u001b[1;33m)\u001b[0m\u001b[1;33m)\u001b[0m\u001b[1;33m[\u001b[0m\u001b[1;36m1\u001b[0m\u001b[1;33m]\u001b[0m\u001b[1;33m\u001b[0m\u001b[1;33m\u001b[0m\u001b[0m\n\u001b[0m\u001b[0;32m     31\u001b[0m         \u001b[0mcolcnt\u001b[0m\u001b[1;33m[\u001b[0m\u001b[0mactive\u001b[0m\u001b[1;33m]\u001b[0m \u001b[1;33m+=\u001b[0m \u001b[1;36m1\u001b[0m\u001b[1;33m\u001b[0m\u001b[1;33m\u001b[0m\u001b[0m\n\u001b[0;32m     32\u001b[0m         \u001b[0mrow_cum_payoff\u001b[0m \u001b[1;33m=\u001b[0m \u001b[0mmap\u001b[0m\u001b[1;33m(\u001b[0m\u001b[0madd\u001b[0m\u001b[1;33m,\u001b[0m \u001b[0mtranspose\u001b[0m\u001b[1;33m[\u001b[0m\u001b[0mactive\u001b[0m\u001b[1;33m]\u001b[0m\u001b[1;33m,\u001b[0m \u001b[0mrow_cum_payoff\u001b[0m\u001b[1;33m)\u001b[0m\u001b[1;33m\u001b[0m\u001b[1;33m\u001b[0m\u001b[0m\n",
      "\u001b[1;31mValueError\u001b[0m: min() arg is an empty sequence"
     ]
    }
   ],
   "source": [
    "mat = [[2,3,1,4], [1,2,5,4], [2,3,4,1], [4,2,2,2]]\n",
    "solve(mat)\n",
    "# min(mat)"
   ]
  },
  {
   "cell_type": "code",
   "execution_count": 61,
   "id": "b7675b98",
   "metadata": {},
   "outputs": [],
   "source": [
    "tmap = map(add, mat[0], [0, 0, 0, 0])\n",
    "tmap_l = list(tmap)"
   ]
  },
  {
   "cell_type": "code",
   "execution_count": 46,
   "id": "a13f300c",
   "metadata": {},
   "outputs": [
    {
     "data": {
      "text/plain": [
       "4"
      ]
     },
     "execution_count": 46,
     "metadata": {},
     "output_type": "execute_result"
    }
   ],
   "source": [
    "max(tmap_l)"
   ]
  },
  {
   "cell_type": "code",
   "execution_count": 37,
   "id": "eddb9021",
   "metadata": {},
   "outputs": [],
   "source": [
    "for i in zip(tmap, [0, 1, 2, 3]):\n",
    "    print(i)"
   ]
  },
  {
   "cell_type": "code",
   "execution_count": 18,
   "id": "0eb3a597",
   "metadata": {},
   "outputs": [
    {
     "data": {
      "text/plain": [
       "[0, -1, -2, -3, -4, -5]"
      ]
     },
     "execution_count": 18,
     "metadata": {},
     "output_type": "execute_result"
    }
   ],
   "source": [
    "list(map(neg, range(6)))"
   ]
  },
  {
   "cell_type": "code",
   "execution_count": 78,
   "id": "dc79798d",
   "metadata": {},
   "outputs": [
    {
     "data": {
      "text/plain": [
       "(1, 2)"
      ]
     },
     "execution_count": 78,
     "metadata": {},
     "output_type": "execute_result"
    }
   ],
   "source": [
    "min([(1,2), (3, 0)])"
   ]
  },
  {
   "cell_type": "code",
   "execution_count": null,
   "id": "13aafe52",
   "metadata": {},
   "outputs": [],
   "source": []
  }
 ],
 "metadata": {
  "kernelspec": {
   "display_name": "Python 3 (ipykernel)",
   "language": "python",
   "name": "python3"
  },
  "language_info": {
   "codemirror_mode": {
    "name": "ipython",
    "version": 3
   },
   "file_extension": ".py",
   "mimetype": "text/x-python",
   "name": "python",
   "nbconvert_exporter": "python",
   "pygments_lexer": "ipython3",
   "version": "3.9.13"
  }
 },
 "nbformat": 4,
 "nbformat_minor": 5
}
